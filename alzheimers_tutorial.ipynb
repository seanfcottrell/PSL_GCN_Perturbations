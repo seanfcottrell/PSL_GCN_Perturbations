{
 "cells": [
  {
   "cell_type": "code",
   "execution_count": null,
   "metadata": {},
   "outputs": [],
   "source": [
    "import scanpy as sc\n",
    "import numpy as np\n",
    "import pandas as pd\n",
    "import networkx as nx\n",
    "import matplotlib.pyplot as plt"
   ]
  },
  {
   "cell_type": "code",
   "execution_count": null,
   "metadata": {},
   "outputs": [],
   "source": [
    "def plot_network(G):\n",
    "    plt.figure(figsize=(10, 15))\n",
    "    pos = nx.spring_layout(G,k=0.6)  \n",
    "    nx.draw_networkx_nodes(G, pos, node_size=50, node_color='blue')\n",
    "    nx.draw_networkx_edges(G, pos, alpha=0.5)\n",
    "    label_pos = {key: (pos[key][0], pos[key][1] + 0.025) for key in pos}\n",
    "    nx.draw_networkx_labels(G, label_pos, font_size=8, verticalalignment='bottom')\n",
    "    plt.title('Gene Coexpression Network')\n",
    "    plt.show()"
   ]
  },
  {
   "cell_type": "markdown",
   "metadata": {},
   "source": [
    "Load in data and create adata object"
   ]
  },
  {
   "cell_type": "code",
   "execution_count": null,
   "metadata": {},
   "outputs": [],
   "source": [
    "file_path = '/scRNAseq-TopAnalysis/Data/scRNA-seq-data/Alzheimers/GSE103334.txt'\n",
    "chunksize = 500  \n",
    "\n",
    "chunks = []\n",
    "for chunk in pd.read_csv(file_path, sep='\\t', index_col=0, header=0, chunksize=chunksize):\n",
    "    chunks.append(chunk)\n",
    "X = pd.concat(chunks, axis=0)\n",
    "print('Gene Expression Size:', X.shape)\n",
    "\n",
    "# Filter out genes with low variance\n",
    "# Set values below 1e-6 to 0\n",
    "X[X < 1e-6] = 0\n",
    "row_variances = np.var(X, axis=1)\n",
    "top_indices = np.argsort(row_variances)[-2000:]\n",
    "X = X.iloc[top_indices, :]\n",
    "print('Post gene filtering X shape:', X.shape)"
   ]
  },
  {
   "cell_type": "code",
   "execution_count": null,
   "metadata": {},
   "outputs": [],
   "source": [
    "# create adata object\n",
    "gene_names = X.index.values\n",
    "expression_data = X.values.astype(float).T\n",
    "adata = sc.AnnData(X=expression_data)\n",
    "adata.var_names = gene_names\n",
    "adata.obs_names = X.columns"
   ]
  },
  {
   "cell_type": "code",
   "execution_count": null,
   "metadata": {},
   "outputs": [],
   "source": [
    "# name each sample according to its temporal label\n",
    "\n",
    "def simplify_obs_name(name):\n",
    "    parts = name.split('_')\n",
    "    if len(parts) >= 2:\n",
    "        new_name = '_'.join(parts[:2])\n",
    "    else:\n",
    "        new_name = name\n",
    "    return new_name\n",
    "\n",
    "obs_names_series = pd.Series(adata.obs_names, index=adata.obs_names)\n",
    "simplified_names = obs_names_series.apply(simplify_obs_name)\n",
    "adata.obs['temporal'] = simplified_names.values"
   ]
  },
  {
   "cell_type": "code",
   "execution_count": null,
   "metadata": {},
   "outputs": [],
   "source": [
    "# data preprocessing and tsne visualization\n",
    "adata2 = adata.copy() # copy adata so as not to change the original object\n",
    "\n",
    "sc.pp.normalize_total(adata2)\n",
    "sc.pp.log1p(adata2)\n",
    "sc.pp.pca(adata2)\n",
    "sc.pp.neighbors(adata2, n_neighbors=10)\n",
    "\n",
    "sc.tl.tsne(adata2)"
   ]
  },
  {
   "cell_type": "code",
   "execution_count": null,
   "metadata": {},
   "outputs": [],
   "source": [
    "# add temporal labels to original adata\n",
    "adata.obs['temporal'] = adata2.obs['temporal']\n",
    "adata.obs['temporal'] = adata.obs['temporal'].astype('category')"
   ]
  },
  {
   "cell_type": "code",
   "execution_count": null,
   "metadata": {},
   "outputs": [],
   "source": [
    "sc.pl.tsne(adata2, color='temporal')"
   ]
  },
  {
   "cell_type": "code",
   "execution_count": null,
   "metadata": {},
   "outputs": [],
   "source": [
    "# collect control group together into one label for convenience\n",
    "def assign_label(name):\n",
    "    if name.startswith('CK_'):\n",
    "        return 'CK'\n",
    "    elif name.startswith('CKp25_'):\n",
    "        parts = name.split('_')\n",
    "        if len(parts) >= 2:\n",
    "            week = parts[1]\n",
    "            return week \n",
    "        else:\n",
    "            return 'CKp25'  \n",
    "    else:\n",
    "        return 'Unknown'  \n",
    "    \n",
    "obs_names_series = pd.Series(adata.obs_names, index=adata.obs_names)\n",
    "adata2.obs['grouped_temporal'] = obs_names_series.apply(assign_label).values\n",
    "\n",
    "adata.obs['grouped_temporal'] = obs_names_series.apply(assign_label).values # add these new labels to original adata as well\n",
    "adata.obs['grouped_temporal'] = adata.obs['grouped_temporal'].astype('category')\n",
    "\n",
    "sc.pl.tsne(adata2, color='grouped_temporal')"
   ]
  },
  {
   "cell_type": "markdown",
   "metadata": {},
   "source": [
    "Construct GCN for different stages of progression"
   ]
  },
  {
   "cell_type": "code",
   "execution_count": null,
   "metadata": {},
   "outputs": [],
   "source": [
    "from GeneCoexpressionNetworks import GeneCoexpressionNetwork\n",
    "\n",
    "# construct gene coexpression network\n",
    "adata3 = adata.copy()\n",
    "threshold=0.3 # early and progressive stages\n",
    "#threshold=0.4 # late stage\n",
    "gcn = GeneCoexpressionNetwork(adata3, threshold, 75, '1w', 'grouped_temporal')\n",
    "gene_names, G = gcn.GCN()"
   ]
  },
  {
   "cell_type": "code",
   "execution_count": null,
   "metadata": {},
   "outputs": [],
   "source": [
    "plot_network(G)"
   ]
  },
  {
   "cell_type": "markdown",
   "metadata": {},
   "source": [
    "Calculate topological significance of each differentially expressed gene and intersect scores across each scale"
   ]
  },
  {
   "cell_type": "code",
   "execution_count": null,
   "metadata": {},
   "outputs": [],
   "source": [
    "from SignificantGenes import TopologicalSignificancesParallelComputation\n",
    "# compute topological significances of each gene\n",
    "#radii = [0.4,0.5,0.6,0.7] # late stage\n",
    "radii = [0.3,0.35,0.4,0.45,0.5] # early and progressive stages\n",
    "radii = 1 / np.array(radii)\n",
    "radii = radii[::-1]\n",
    "\n",
    "args = [(G, gene, radii) for gene in gene_names]\n",
    "\n",
    "scores = TopologicalSignificancesParallelComputation(args)"
   ]
  },
  {
   "cell_type": "code",
   "execution_count": null,
   "metadata": {},
   "outputs": [],
   "source": [
    "from SignificantGenes import intersect_top_genes\n",
    "genes = intersect_top_genes(scores, gene_names, 20)\n",
    "print(genes)"
   ]
  },
  {
   "cell_type": "markdown",
   "metadata": {},
   "source": [
    "Pathway enrichment analysis"
   ]
  },
  {
   "cell_type": "code",
   "execution_count": null,
   "metadata": {},
   "outputs": [],
   "source": [
    "import gseapy as gp\n",
    "enr=gp.enrichr(gene_list=genes,  \n",
    "               gene_sets=['KEGG_2021_Human'], \n",
    "               organism='human', \n",
    "               outdir=None,\n",
    "               cutoff=0.05)"
   ]
  },
  {
   "cell_type": "code",
   "execution_count": null,
   "metadata": {},
   "outputs": [],
   "source": [
    "results = enr.results\n",
    "results.head()"
   ]
  },
  {
   "cell_type": "code",
   "execution_count": null,
   "metadata": {},
   "outputs": [],
   "source": [
    "significant_pathways = results[results['Adjusted P-value'] < 0.05]\n",
    "#significant_pathways = significant_pathways[significant_pathways['Combined Score'] > 250]\n",
    "significant_pathways.shape"
   ]
  },
  {
   "cell_type": "code",
   "execution_count": null,
   "metadata": {},
   "outputs": [],
   "source": [
    "# Plotting\n",
    "plt.figure(figsize=(10, 6))\n",
    "plt.barh(significant_pathways['Term'], significant_pathways['Combined Score'], color='skyblue')\n",
    "plt.xlabel('Combined Score', fontsize=30)\n",
    "plt.title('Pathway Analysis (Early)', fontsize=30)\n",
    "plt.tick_params(axis='both', which='major', labelsize=30)\n",
    "plt.gca().invert_yaxis()  # Highest scores on top\n",
    "plt.show()"
   ]
  }
 ],
 "metadata": {
  "language_info": {
   "name": "python"
  }
 },
 "nbformat": 4,
 "nbformat_minor": 2
}
